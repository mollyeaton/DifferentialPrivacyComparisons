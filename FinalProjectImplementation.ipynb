{
 "cells": [
  {
   "cell_type": "code",
   "execution_count": 43,
   "metadata": {},
   "outputs": [],
   "source": [
    "# Load the data and libraries\n",
    "import pandas as pd\n",
    "import numpy as np\n",
    "from scipy import stats\n",
    "import matplotlib.pyplot as plt\n",
    "plt.style.use('seaborn-whitegrid')\n",
    "\n",
    "#these functions are defined from CS 211 class\n",
    "def laplace_mech(v, sensitivity, epsilon):\n",
    "    return v + np.random.laplace(loc=0, scale=sensitivity / epsilon)\n",
    "\n",
    "def gaussian_mech(v, sensitivity, epsilon, delta):\n",
    "    return v + np.random.normal(loc=0, scale=sensitivity * np.sqrt(2*np.log(1.25/delta)) / epsilon)\n",
    "\n",
    "def pct_error(orig, priv):\n",
    "    return np.abs(orig - priv)/orig * 100.0\n",
    "\n",
    "def generalize(df, depths):\n",
    "    return df.apply(lambda x: x.apply(lambda y: int(int(y/(10**depths[x.name]))*(10**depths[x.name]))))\n",
    "\n",
    "# Checking for k-anonymity more efficiently\n",
    "def is_k_anonymous(k, qis, df):\n",
    "    \"\"\"Returns true if df satisfies k-Anonymity for the quasi-identifiers \n",
    "    qis. Returns false otherwise.\"\"\"\n",
    "    #go through each quasi identifier\n",
    "    for q in qis:\n",
    "        \n",
    "        #extract the column\n",
    "        sub_df = df[q]\n",
    "        #if the minimum of any of the columns is below k then it fails\n",
    "        #the minimum value count represents the least common rows and can be identifiable \n",
    "        if (min(sub_df.value_counts()) < k):\n",
    "            return False\n",
    "    #if it makes it to here then the test has passed\n",
    "    return True\n"
   ]
  },
  {
   "cell_type": "code",
   "execution_count": 44,
   "metadata": {},
   "outputs": [],
   "source": [
    "#import the dataset to be used as a data frame\n",
    "#encoding error if 'latin1' is not specified\n",
    "census = pd.read_csv('kaggle_income.csv', encoding ='latin1')"
   ]
  },
  {
   "cell_type": "code",
   "execution_count": 45,
   "metadata": {},
   "outputs": [
    {
     "data": {
      "text/html": [
       "<div>\n",
       "<style scoped>\n",
       "    .dataframe tbody tr th:only-of-type {\n",
       "        vertical-align: middle;\n",
       "    }\n",
       "\n",
       "    .dataframe tbody tr th {\n",
       "        vertical-align: top;\n",
       "    }\n",
       "\n",
       "    .dataframe thead th {\n",
       "        text-align: right;\n",
       "    }\n",
       "</style>\n",
       "<table border=\"1\" class=\"dataframe\">\n",
       "  <thead>\n",
       "    <tr style=\"text-align: right;\">\n",
       "      <th></th>\n",
       "      <th>id</th>\n",
       "      <th>State_Code</th>\n",
       "      <th>State_Name</th>\n",
       "      <th>State_ab</th>\n",
       "      <th>County</th>\n",
       "      <th>City</th>\n",
       "      <th>Place</th>\n",
       "      <th>Type</th>\n",
       "      <th>Primary</th>\n",
       "      <th>Zip_Code</th>\n",
       "      <th>Area_Code</th>\n",
       "      <th>ALand</th>\n",
       "      <th>AWater</th>\n",
       "      <th>Lat</th>\n",
       "      <th>Lon</th>\n",
       "      <th>Mean</th>\n",
       "      <th>Median</th>\n",
       "      <th>Stdev</th>\n",
       "      <th>sum_w</th>\n",
       "    </tr>\n",
       "  </thead>\n",
       "  <tbody>\n",
       "    <tr>\n",
       "      <th>0</th>\n",
       "      <td>1011000</td>\n",
       "      <td>1</td>\n",
       "      <td>Alabama</td>\n",
       "      <td>AL</td>\n",
       "      <td>Mobile County</td>\n",
       "      <td>Chickasaw</td>\n",
       "      <td>Chickasaw city</td>\n",
       "      <td>City</td>\n",
       "      <td>place</td>\n",
       "      <td>36611</td>\n",
       "      <td>251</td>\n",
       "      <td>10894952</td>\n",
       "      <td>909156</td>\n",
       "      <td>30.771450</td>\n",
       "      <td>-88.079697</td>\n",
       "      <td>38773</td>\n",
       "      <td>30506</td>\n",
       "      <td>33101</td>\n",
       "      <td>1638.260513</td>\n",
       "    </tr>\n",
       "    <tr>\n",
       "      <th>1</th>\n",
       "      <td>1011010</td>\n",
       "      <td>1</td>\n",
       "      <td>Alabama</td>\n",
       "      <td>AL</td>\n",
       "      <td>Barbour County</td>\n",
       "      <td>Louisville</td>\n",
       "      <td>Clio city</td>\n",
       "      <td>City</td>\n",
       "      <td>place</td>\n",
       "      <td>36048</td>\n",
       "      <td>334</td>\n",
       "      <td>26070325</td>\n",
       "      <td>23254</td>\n",
       "      <td>31.708516</td>\n",
       "      <td>-85.611039</td>\n",
       "      <td>37725</td>\n",
       "      <td>19528</td>\n",
       "      <td>43789</td>\n",
       "      <td>258.017685</td>\n",
       "    </tr>\n",
       "    <tr>\n",
       "      <th>2</th>\n",
       "      <td>1011020</td>\n",
       "      <td>1</td>\n",
       "      <td>Alabama</td>\n",
       "      <td>AL</td>\n",
       "      <td>Shelby County</td>\n",
       "      <td>Columbiana</td>\n",
       "      <td>Columbiana city</td>\n",
       "      <td>City</td>\n",
       "      <td>place</td>\n",
       "      <td>35051</td>\n",
       "      <td>205</td>\n",
       "      <td>44835274</td>\n",
       "      <td>261034</td>\n",
       "      <td>33.191452</td>\n",
       "      <td>-86.615618</td>\n",
       "      <td>54606</td>\n",
       "      <td>31930</td>\n",
       "      <td>57348</td>\n",
       "      <td>926.031000</td>\n",
       "    </tr>\n",
       "    <tr>\n",
       "      <th>3</th>\n",
       "      <td>1011030</td>\n",
       "      <td>1</td>\n",
       "      <td>Alabama</td>\n",
       "      <td>AL</td>\n",
       "      <td>Mobile County</td>\n",
       "      <td>Satsuma</td>\n",
       "      <td>Creola city</td>\n",
       "      <td>City</td>\n",
       "      <td>place</td>\n",
       "      <td>36572</td>\n",
       "      <td>251</td>\n",
       "      <td>36878729</td>\n",
       "      <td>2374530</td>\n",
       "      <td>30.874343</td>\n",
       "      <td>-88.009442</td>\n",
       "      <td>63919</td>\n",
       "      <td>52814</td>\n",
       "      <td>47707</td>\n",
       "      <td>378.114619</td>\n",
       "    </tr>\n",
       "    <tr>\n",
       "      <th>4</th>\n",
       "      <td>1011040</td>\n",
       "      <td>1</td>\n",
       "      <td>Alabama</td>\n",
       "      <td>AL</td>\n",
       "      <td>Mobile County</td>\n",
       "      <td>Dauphin Island</td>\n",
       "      <td>Dauphin Island</td>\n",
       "      <td>Town</td>\n",
       "      <td>place</td>\n",
       "      <td>36528</td>\n",
       "      <td>251</td>\n",
       "      <td>16204185</td>\n",
       "      <td>413605152</td>\n",
       "      <td>30.250913</td>\n",
       "      <td>-88.171268</td>\n",
       "      <td>77948</td>\n",
       "      <td>67225</td>\n",
       "      <td>54270</td>\n",
       "      <td>282.320328</td>\n",
       "    </tr>\n",
       "  </tbody>\n",
       "</table>\n",
       "</div>"
      ],
      "text/plain": [
       "        id  State_Code State_Name State_ab          County            City  \\\n",
       "0  1011000           1    Alabama       AL   Mobile County       Chickasaw   \n",
       "1  1011010           1    Alabama       AL  Barbour County      Louisville   \n",
       "2  1011020           1    Alabama       AL   Shelby County      Columbiana   \n",
       "3  1011030           1    Alabama       AL   Mobile County         Satsuma   \n",
       "4  1011040           1    Alabama       AL   Mobile County  Dauphin Island   \n",
       "\n",
       "             Place  Type Primary  Zip_Code Area_Code     ALand     AWater  \\\n",
       "0   Chickasaw city  City   place     36611       251  10894952     909156   \n",
       "1        Clio city  City   place     36048       334  26070325      23254   \n",
       "2  Columbiana city  City   place     35051       205  44835274     261034   \n",
       "3      Creola city  City   place     36572       251  36878729    2374530   \n",
       "4   Dauphin Island  Town   place     36528       251  16204185  413605152   \n",
       "\n",
       "         Lat        Lon   Mean  Median  Stdev        sum_w  \n",
       "0  30.771450 -88.079697  38773   30506  33101  1638.260513  \n",
       "1  31.708516 -85.611039  37725   19528  43789   258.017685  \n",
       "2  33.191452 -86.615618  54606   31930  57348   926.031000  \n",
       "3  30.874343 -88.009442  63919   52814  47707   378.114619  \n",
       "4  30.250913 -88.171268  77948   67225  54270   282.320328  "
      ]
     },
     "execution_count": 45,
     "metadata": {},
     "output_type": "execute_result"
    }
   ],
   "source": [
    "#display the first 5 entries of the dataset\n",
    "census.head()"
   ]
  },
  {
   "cell_type": "code",
   "execution_count": 46,
   "metadata": {},
   "outputs": [
    {
     "data": {
      "text/plain": [
       "['Alabama', 'Alaska', 'Arizona', 'Arkansas', 'California']"
      ]
     },
     "execution_count": 46,
     "metadata": {},
     "output_type": "execute_result"
    }
   ],
   "source": [
    "#declare a master list of all the states\n",
    "all_states = census['State_Name'].unique().tolist()\n",
    "all_states[:5]"
   ]
  },
  {
   "cell_type": "code",
   "execution_count": 47,
   "metadata": {},
   "outputs": [
    {
     "data": {
      "image/png": "[encoded data removed]",
      "text/plain": [
       "<Figure size 432x288 with 1 Axes>"
      ]
     },
     "metadata": {},
     "output_type": "display_data"
    }
   ],
   "source": [
    "#to bound our data and clarify the sensitivity it's best to clip the dataset\n",
    "#while this will eat up some privacy cost it can pay off\n",
    "\n",
    "#find a clipping parameter for the mean values\n",
    "def dp_income_clipping(epsilon, b):\n",
    "    preprocessed_data = census['Mean'].clip(lower = 0, upper = b)\n",
    "    sum_query = preprocessed_data.sum()\n",
    "    return laplace_mech(sum_query, b-0, epsilon/10 )\n",
    "\n",
    "bs = np.linspace(1, 150000, 100)\n",
    "results = [dp_income_clipping(1.0, b) for b in bs]\n",
    "plt.plot(bs, results);"
   ]
  },
  {
   "cell_type": "code",
   "execution_count": 48,
   "metadata": {},
   "outputs": [],
   "source": [
    "#let's clip the mean information before processing to remove outliers and define the sensitivy\n",
    "census['Mean'] = census['Mean'].clip(lower= 10000, upper = 140000)"
   ]
  },
  {
   "cell_type": "code",
   "execution_count": 49,
   "metadata": {},
   "outputs": [],
   "source": [
    "#to find all the averages we need to define functions to compile all averages associated with each state\n",
    "\n",
    "#this function will return the average income of any state\n",
    "#using the gaussian_mech_vec we will preserve differential privacy to find the 'average of averages'\n",
    "def state_avg_gaussian(state, epsilon, delta):\n",
    "    #split epsilon and delta by 2 to preserve (epsilon, delta) differential privacy by sequential composition\n",
    "    epsilon_i = epsilon/2\n",
    "    delta_i = delta/2\n",
    "    \n",
    "    sensitivity = 130000 #upper - lower bounds\n",
    "    \n",
    "    #create array to hold all individual averages\n",
    "    individual_avgs = census[(census['State_Name'] == state)]['Mean']\n",
    "    #calculate the sum\n",
    "    state_sum = np.sum(individual_avgs)\n",
    "    #find the noisy sum using the gaussian mechanism\n",
    "    noisy_sum = gaussian_mech(state_sum, sensitivity, epsilon_i, delta_i)\n",
    "    \n",
    "    #save the length value as k\n",
    "    k = len(individual_avgs)\n",
    "    noisy_count = gaussian_mech(k, 1, epsilon_i, delta_i)\n",
    "    \n",
    "    return noisy_sum/noisy_count\n",
    "\n",
    "#this is the same function as above, but using laplace_mech_vec for preserving differential privacy\n",
    "def state_avg_laplace(state, epsilon):\n",
    "    #split epsilon and delta by 2 to preserve (epsilon, delta) differential privacy by sequential composition\n",
    "    epsilon_i = epsilon/2\n",
    "    \n",
    "    sensitivity = 130000 #upper - lower bounds\n",
    "    \n",
    "    #create array to hold all individual averages\n",
    "    individual_avgs = census[(census['State_Name'] == state)]['Mean']\n",
    "    #calculate the sum\n",
    "    state_sum = np.sum(individual_avgs)\n",
    "    #find the noisy sum using the gaussian mechanism\n",
    "    noisy_sum = laplace_mech(state_sum, 130000, epsilon_i)\n",
    "    \n",
    "    #save the length value as k\n",
    "    k = len(individual_avgs)\n",
    "    noisy_count = laplace_mech(k, 1, epsilon_i)\n",
    "    \n",
    "    return noisy_sum/noisy_count\n",
    "\n"
   ]
  },
  {
   "cell_type": "code",
   "execution_count": 50,
   "metadata": {},
   "outputs": [
    {
     "name": "stdout",
     "output_type": "stream",
     "text": [
      "The true mean of Vermont:  63315.97590361446\n",
      "\n",
      "Average using the Gaussian Mechanism:  74613.46288411056\n",
      "Percent Error:  17.84302748123822\n",
      "\n",
      "Average using the Laplace Mechanism:  61942.29108506251\n",
      "Percent Error:  2.169570631973044\n"
     ]
    }
   ],
   "source": [
    "#for analysis comparisons we will compare with the actual average mean in Vermont\n",
    "#in the 'real world' this would be against the ethos of differential privacy\n",
    "#because we are directly looking at the data\n",
    "actual_vermont = census[(census['State_Name'] == 'Vermont')]['Mean'].values\n",
    "actual_vermont = sum(actual_vermont)/len(actual_vermont)\n",
    "print(\"The true mean of Vermont: \", actual_vermont)\n",
    "\n",
    "#let's find the noisy average of income for Vermont\n",
    "\n",
    "#first using the gaussian mechanism\n",
    "result = state_avg_gaussian('Vermont', 2.0, 1e-5)\n",
    "print(\"\\nAverage using the Gaussian Mechanism: \", result)\n",
    "print(\"Percent Error: \", pct_error(actual_vermont, result))\n",
    "#next using the laplace mechanism\n",
    "result = state_avg_laplace('Vermont', 2.0)\n",
    "print(\"\\nAverage using the Laplace Mechanism: \", result)\n",
    "print(\"Percent Error: \", pct_error(actual_vermont, result))\n"
   ]
  },
  {
   "cell_type": "code",
   "execution_count": 51,
   "metadata": {},
   "outputs": [
    {
     "data": {
      "image/png": "[encoded data removed]",
      "text/plain": [
       "<Figure size 1080x504 with 1 Axes>"
      ]
     },
     "metadata": {},
     "output_type": "display_data"
    }
   ],
   "source": [
    "#lets take a closer look at the errors with each algorithm\n",
    "\n",
    "#run the average function (with the laplace mech) 100 times and find the respective errors\n",
    "laplace_runs = [state_avg_laplace('Vermont', 2.0) for _ in range (100)]\n",
    "laplace_errors = [pct_error(actual_vermont, i) for i in laplace_runs]\n",
    "\n",
    "#run the average function (with the laplace mech) 100 times and find the respective errors\n",
    "gaussian_runs = [state_avg_gaussian('Vermont', 2.0, 1e-5) for _ in range (100)]\n",
    "gaussian_errors = [pct_error(actual_vermont, i) for i in gaussian_runs]\n",
    "\n",
    "x = [i for i in range(1, 101)] \n",
    "#lets display the results\n",
    "plt.figure(figsize=(15,7))\n",
    "lap = plt.scatter(x, laplace_errors, c = \"orange\")\n",
    "gaus = plt.scatter(x, gaussian_errors, c = \"red\")\n",
    "plt.xlabel(\"Iteration Number\")\n",
    "plt.ylabel(\"Percent Error\")\n",
    "plt.legend((lap, gaus), (\"Laplace Mechanism\", \"Gaussian Mechanism\"))\n",
    "plt.show()"
   ]
  },
  {
   "cell_type": "markdown",
   "metadata": {},
   "source": [
    "The results above show that the ranges of the two mechanisms vary with each iteration, but the Laplace Mechanism performs more accurately, more consistently."
   ]
  },
  {
   "cell_type": "code",
   "execution_count": 52,
   "metadata": {},
   "outputs": [
    {
     "data": {
      "text/plain": [
       "62396.85941958231"
      ]
     },
     "execution_count": 52,
     "metadata": {},
     "output_type": "execute_result"
    }
   ],
   "source": [
    "#now that we can find an entire state's average we can compile a dictionary of all the states' averages\n",
    "all_state_avg = {}\n",
    "#loop through the states and find their respective averages\n",
    "for state in all_states:\n",
    "    all_state_avg[state] = state_avg_laplace(state, 2.0)\n",
    "    \n",
    "all_state_avg['Vermont']"
   ]
  },
  {
   "cell_type": "code",
   "execution_count": 53,
   "metadata": {},
   "outputs": [],
   "source": [
    "#let's try anonymizing the data so we can perform straight computations\n",
    "def generalize_census_income():\n",
    "    #generalize the three least significant digits\n",
    "    #this keeps the information accurate to the thousands\n",
    "    depths = {\n",
    "        'Mean' : 3,\n",
    "        'Lat' : 4,\n",
    "    }\n",
    "    \n",
    "    return (generalize(census[['Mean', 'Lat']], depths))\n",
    "\n",
    "#we are now 10-k anonymous for the means\n",
    "assert is_k_anonymous(10, ['Mean', 'Lat'], generalize_census_income())"
   ]
  },
  {
   "cell_type": "code",
   "execution_count": 54,
   "metadata": {},
   "outputs": [
    {
     "name": "stdout",
     "output_type": "stream",
     "text": [
      "Calculated Average for Vermont:  62907.659630037466\n",
      "Percent Error:  0.6448866463000936\n"
     ]
    }
   ],
   "source": [
    "#create an empty dictionary to hold the new averages\n",
    "anon_avg = {}\n",
    "\n",
    "def anonymized_avg(state):\n",
    "    #create array to hold all individual averages\n",
    "    #adult[(adult['Marital Status'] == 'Never-married')]\n",
    "    individual_avgs = census[(census['State_Name'] == state)]\n",
    "    noisy_sum = sum(individual_avgs['Mean'].values)\n",
    "    \n",
    "    #save the length value as k\n",
    "    k = len(individual_avgs)\n",
    "    noisy_count = laplace_mech(k, 1, 1.0)\n",
    "    \n",
    "    return noisy_sum/noisy_count\n",
    "\n",
    "\n",
    "#loop through the states and find their respective averages\n",
    "for state in all_states:\n",
    "    anon_avg[state] = anonymized_avg(state)\n",
    "    \n",
    "result = anon_avg['Vermont']\n",
    "print(\"Calculated Average for Vermont: \", result)\n",
    "print(\"Percent Error: \" , pct_error(actual_vermont, result))"
   ]
  },
  {
   "cell_type": "code",
   "execution_count": 55,
   "metadata": {},
   "outputs": [
    {
     "data": {
      "image/png": "[encoded data removed]",
      "text/plain": [
       "<Figure size 1080x504 with 1 Axes>"
      ]
     },
     "metadata": {},
     "output_type": "display_data"
    }
   ],
   "source": [
    "#now that we have two ways to calculate the averages of states lets compare \n",
    "k_anonymous_runs = [anonymized_avg('Vermont') for _ in range (100)]\n",
    "k_anonymous_errors = [pct_error(actual_vermont, i) for i in k_anonymous_runs]\n",
    "\n",
    "#lets display the results\n",
    "plt.figure(figsize=(15,7))\n",
    "lap = plt.scatter(x, laplace_errors, c = \"orange\")\n",
    "k = plt.scatter(x, k_anonymous_errors, c = \"red\")\n",
    "plt.xlabel(\"Iteration Number\")\n",
    "plt.ylabel(\"Percent Error\")\n",
    "plt.legend((lap, k), (\"Laplace Mechanism\", \"K-Anonymous\"))\n",
    "plt.show()"
   ]
  },
  {
   "cell_type": "markdown",
   "metadata": {},
   "source": [
    "While there is an essence of randomness when calculating the average with k-anonymity, it consistently performs more accurately than the Laplace Mechanism, which introduces much more randomness"
   ]
  },
  {
   "cell_type": "code",
   "execution_count": 56,
   "metadata": {},
   "outputs": [
    {
     "name": "stdout",
     "output_type": "stream",
     "text": [
      "The state with the maximum average:  District of Columbia\n",
      "The state with the minimum average:  Puerto Rico\n"
     ]
    }
   ],
   "source": [
    "#now that we have an adequate way to look into the means we can do some comparison\n",
    "#this cell is using the anonymized data for finding the min and max\n",
    "#find the maximum average income in the list and print\n",
    "state_max = max(anon_avg, key=anon_avg.get)\n",
    "print(\"The state with the maximum average: \", state_max)\n",
    "#find the minimum average income in the list and print\n",
    "state_min = min(anon_avg, key=anon_avg.get)\n",
    "print(\"The state with the minimum average: \", state_min)"
   ]
  },
  {
   "cell_type": "code",
   "execution_count": 57,
   "metadata": {},
   "outputs": [
    {
     "name": "stdout",
     "output_type": "stream",
     "text": [
      "The state with the maximum average:  Connecticut\n",
      "The state with the minimum average:  Puerto Rico\n"
     ]
    }
   ],
   "source": [
    "#this cell is using the Laplace Mechanism for finding the min and max\n",
    "#find the maximum average income in the list and print\n",
    "state_max = max(all_state_avg, key=all_state_avg.get)\n",
    "print(\"The state with the maximum average: \", state_max)\n",
    "#find the minimum average income in the list and print\n",
    "state_min = min(all_state_avg, key=all_state_avg.get)\n",
    "print(\"The state with the minimum average: \", state_min)"
   ]
  },
  {
   "cell_type": "code",
   "execution_count": 58,
   "metadata": {},
   "outputs": [
    {
     "name": "stdout",
     "output_type": "stream",
     "text": [
      "Calculated Average for Vermont:  43.53342751582774\n"
     ]
    }
   ],
   "source": [
    "#another analysis that may prove to be interesting is the correlation with mean income and the state's latitude\n",
    "#i.e. how north/south the income\n",
    "def avg_latitude(state):\n",
    "    #create array to hold all individual averages\n",
    "    individual_avgs = census[(census['State_Name'] == state)]\n",
    "    noisy_sum = sum(individual_avgs['Lat'].values)\n",
    "    \n",
    "    #save the length value as k\n",
    "    k = len(individual_avgs)\n",
    "    noisy_count = laplace_mech(k, 1, 1.0)\n",
    "    \n",
    "    return noisy_sum/noisy_count\n",
    "\n",
    "\n",
    "anon_lats = {}\n",
    "#loop through the states and find their respective averages\n",
    "for state in all_states:\n",
    "    anon_lats[state] = avg_latitude(state)\n",
    "    \n",
    "result = anon_lats['Vermont']\n",
    "print(\"Calculated Average for Vermont: \", result)"
   ]
  },
  {
   "cell_type": "code",
   "execution_count": 59,
   "metadata": {},
   "outputs": [
    {
     "data": {
      "text/plain": [
       "44.65192415487843"
      ]
     },
     "execution_count": 59,
     "metadata": {},
     "output_type": "execute_result"
    }
   ],
   "source": [
    "avg_latitude('Vermont')"
   ]
  },
  {
   "cell_type": "code",
   "execution_count": 60,
   "metadata": {},
   "outputs": [
    {
     "data": {
      "image/png": "[encoded data removed]",
      "text/plain": [
       "<Figure size 720x504 with 1 Axes>"
      ]
     },
     "metadata": {},
     "output_type": "display_data"
    }
   ],
   "source": [
    "#create empty dictionary to match latitudes with income\n",
    "combined = {}\n",
    "#loop through the states to fill in the values\n",
    "for state in all_states:\n",
    "    combined[anon_lats[state]] = anon_avg[state]\n",
    "\n",
    "plt.figure(figsize=(10,7))\n",
    "#plot the results\n",
    "plt.scatter(list(combined.keys()), list(combined.values()))\n",
    "plt.xlabel(\"Average Latitude\")\n",
    "plt.ylabel(\"Average Income\")\n",
    "\n",
    "#create a trendline for the scatter plot\n",
    "z = np.polyfit(list(combined.keys()), list(combined.values()), 1)\n",
    "p = np.poly1d(z)\n",
    "plt.plot(list(combined.keys()),p(list(combined.keys())),\"r--\")\n",
    "\n",
    "plt.show()"
   ]
  },
  {
   "cell_type": "code",
   "execution_count": null,
   "metadata": {},
   "outputs": [],
   "source": []
  }
 ],
 "metadata": {
  "kernelspec": {
   "display_name": "Python 3",
   "language": "python",
   "name": "python3"
  },
  "language_info": {
   "codemirror_mode": {
    "name": "ipython",
    "version": 3
   },
   "file_extension": ".py",
   "mimetype": "text/x-python",
   "name": "python",
   "nbconvert_exporter": "python",
   "pygments_lexer": "ipython3",
   "version": "3.7.6"
  }
 },
 "nbformat": 4,
 "nbformat_minor": 4
}
